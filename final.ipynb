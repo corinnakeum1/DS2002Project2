{
  "nbformat": 4,
  "nbformat_minor": 0,
  "metadata": {
    "colab": {
      "provenance": [],
      "include_colab_link": true
    },
    "kernelspec": {
      "name": "python3",
      "display_name": "Python 3"
    },
    "language_info": {
      "name": "python"
    }
  },
  "cells": [
    {
      "cell_type": "markdown",
      "metadata": {
        "id": "view-in-github",
        "colab_type": "text"
      },
      "source": [
        "<a href=\"https://colab.research.google.com/github/corinnakeum1/DS2002Project2/blob/main/final.ipynb\" target=\"_parent\"><img src=\"https://colab.research.google.com/assets/colab-badge.svg\" alt=\"Open In Colab\"/></a>"
      ]
    },
    {
      "cell_type": "code",
      "source": [
        "import pandas as pd\n",
        "weather_df = pd.read_csv('weather_data.csv')"
      ],
      "metadata": {
        "colab": {
          "base_uri": "https://localhost:8080/"
        },
        "id": "CACISKWhm5oT",
        "outputId": "bee5ddfe-a067-47df-e936-6b2599125701"
      },
      "execution_count": null,
      "outputs": [
        {
          "output_type": "stream",
          "name": "stdout",
          "text": [
            "                                                 7  1.191968116  25.54900443\n",
            "San Antonio  4/29/2024 13:35  37.837682  76.626202     3.465576    16.288698\n",
            "Houston      2/27/2024 15:56 -3.259009   39.769348     7.411353    16.650839\n",
            "New York     1/10/2024 6:42  -9.098840   80.051711     5.526277    28.612714\n",
            "San Antonio  1/29/2024 18:07  32.587341  34.421484     7.429063    29.314494\n",
            "Philadelphia 3/6/2024 14:30   28.966143  47.730579     8.081970     9.868444\n"
          ]
        }
      ]
    },
    {
      "cell_type": "code",
      "source": [
        "# NEW  CODE FOR APP.PY ON 5/9\n",
        "\n",
        "from flask import Flask, render_template, request, jsonify\n",
        "import requests\n",
        "import string\n",
        "import re\n",
        "\n",
        "app = Flask(__name__)\n",
        "\n",
        "weather_df = pd.read_csv('weather_data.csv')\n",
        "\n",
        "cities_in_csv = [\"Chicago\", \"Dallas\", \"Houston\", \"Los Angeles\", \"New York\", \"Philadelphia\", \"Phoenix\", \"San Antonio\", \"San Diego\", \"San Jose\"]\n",
        "\n",
        "# WEATHER CSV FUNCTION\n",
        "def get_avg_weather(city):\n",
        "    df_city = weather_df[weather_df['Location'].str.lower() == city.lower()]\n",
        "\n",
        "    if df_city.empty:\n",
        "        return f\"Sorry, no data available for {city.title()}.\"\n",
        "\n",
        "    temp = df_city['Temperature_C'].mean()\n",
        "    humidity = df_city['Humidity_pct'].mean()\n",
        "    precipitation = df_city['Precipitation_mm'].mean()\n",
        "    wind_speed = df_city['Wind_Speed_kmh'].mean()\n",
        "\n",
        "    return (f\"Average weather for {city.title()} based on local records:\\n\"\n",
        "            f\"- Temperature: {temp:.2f}°C\\n\"\n",
        "            f\"- Humidity: {humidity:.1f}%\\n\"\n",
        "            f\"- Precipitation: {precipitation:.2f} mm\\n\"\n",
        "            f\"- Wind Speed: {wind_speed:.2f} km/h\")\n",
        "\n",
        "# WEATHER API FUNCTION\n",
        "def get_live_weather(city):\n",
        "    api_key = \"REDACTED\"\n",
        "    url = f\"http://api.weatherstack.com/current?access_key={api_key}&query={city}&air_quality=1\"\n",
        "\n",
        "    try:\n",
        "        response = requests.get(url)\n",
        "        if response.status_code != 200:\n",
        "            return f\"Error: Could not reach the weather API.\"\n",
        "\n",
        "        data = response.json()\n",
        "\n",
        "        if \"location\" not in data or not data[\"location\"]:\n",
        "            return f\"Sorry, I couldn't find weather info for that.\"\n",
        "\n",
        "        # Extract relevant weather info\n",
        "        location = data[\"location\"][\"name\"]\n",
        "        country = data[\"location\"][\"country\"]\n",
        "        temp = data[\"current\"][\"temperature\"]\n",
        "        condition = data[\"current\"][\"weather_descriptions\"][0]\n",
        "        feels_like = data[\"current\"][\"feelslike\"]\n",
        "        humidity = data[\"current\"][\"humidity\"]\n",
        "        moon_phase = data[\"current\"].get(\"astro\", {}).get(\"moon_phase\", \"unknown\")\n",
        "\n",
        "        return (f\"The weather in {location}, {country} is currently {condition.lower()} with \"\n",
        "                f\"a temperature of {temp}°C (feels like {feels_like}°C) and humidity at {humidity}%. \"\n",
        "                f\"Moon phase is {moon_phase.lower()}.\")\n",
        "\n",
        "    except Exception as e:\n",
        "        return f\"An error occurred: {e}\"\n",
        "\n",
        "# ROUTES\n",
        "@app.route('/')\n",
        "def home():\n",
        "    return render_template('home.html')\n",
        "\n",
        "@app.route('/debug')\n",
        "def debug():\n",
        "    return \"This is the debug route. Everything's (hopefully) fine.\"\n",
        "\n",
        "@app.route('/about')\n",
        "def about():\n",
        "    return \"This is a simple Flask app.\"\n",
        "\n",
        "@app.route('/chat', methods=['POST'])\n",
        "def chat():\n",
        "    user_input = request.json.get('message', '')\n",
        "    check_city = next((city for city in cities_in_csv if city in user_input), None)\n",
        "    if \"weather\" in user_input.lower():\n",
        "        if (\"average\" in user_input.lower() or \"past\" in user_input.lower() or \"hist\" in user_input.lower() or \"was\" in user_input.lower()) and check_city:\n",
        "            city = extract_city(user_input)\n",
        "            response = get_avg_weather(city)\n",
        "        elif \"current\" in user_input.lower() or \"is\" in user_input.lower() or \"now\" in user_input.lower():\n",
        "            city = extract_city(user_input)\n",
        "            response = get_live_weather(city)\n",
        "        else:\n",
        "            response = \"Hmm, I'm not sure. Please check your spelling and capitalization, and ask me again!\"\n",
        "    else:\n",
        "        response = \"Try asking about the weather in a city.\"\n",
        "\n",
        "    return jsonify({'response': response})\n",
        "\n",
        "# UTIL FUNCTION\n",
        "def extract_city(user_input):\n",
        "    # Remove punctuation like '?'\n",
        "    user_input = user_input.replace('?', '').strip()\n",
        "\n",
        "    # Regex to match capitalized words (this will capture each capitalized word in the sentence)\n",
        "    capitalized_words = re.findall(r'\\b[A-Z][a-z]*\\b(?:\\s[A-Z][a-z]*)*', user_input)\n",
        "\n",
        "    # List of words to remove from capitalized words\n",
        "    remove_words = {\"What\", \"Tell\", \"Can\", \"Average\", \"Current\", \"Weather\"}\n",
        "\n",
        "    # Remove non-city capitalized words\n",
        "    refined_words = [word for word in capitalized_words if word not in remove_words]\n",
        "\n",
        "    # Put together cities longer than one word\n",
        "    if len(refined_words) > 1:\n",
        "        city_name = ' '.join(refined_words)\n",
        "    elif len(capitalized_words) == 1:\n",
        "        # Handles one word cities\n",
        "        city_name = refined_words[0]\n",
        "    else:\n",
        "        city_name = \"Invalid\"\n",
        "\n",
        "    return city_name\n",
        "\n",
        "if __name__ == '__main__':\n",
        "    app.run(host='0.0.0.0', port=5000, debug=True)\n"
      ],
      "metadata": {
        "colab": {
          "base_uri": "https://localhost:8080/"
        },
        "id": "rhJqfVyPfDso",
        "outputId": "8dcfd78b-23d8-495f-dd3c-1f15629d989a"
      },
      "execution_count": null,
      "outputs": [
        {
          "metadata": {
            "tags": null
          },
          "name": "stdout",
          "output_type": "stream",
          "text": [
            " * Serving Flask app '__main__'\n",
            " * Debug mode: on\n"
          ]
        },
        {
          "metadata": {
            "tags": null
          },
          "name": "stderr",
          "output_type": "stream",
          "text": [
            "INFO:werkzeug:\u001b[31m\u001b[1mWARNING: This is a development server. Do not use it in a production deployment. Use a production WSGI server instead.\u001b[0m\n",
            " * Running on http://127.0.0.1:5000\n",
            "INFO:werkzeug:\u001b[33mPress CTRL+C to quit\u001b[0m\n",
            "INFO:werkzeug: * Restarting with stat\n"
          ]
        }
      ]
    },
    {
      "cell_type": "code",
      "source": [
        "# HOME.HTML FROM 5/9\n",
        "\n",
        "<!DOCTYPE html>\n",
        "<html>\n",
        "<head>\n",
        "    <title>Home Page</title>\n",
        "</head>\n",
        "<body>\n",
        "    <h1>Weather Chatbot</h1>\n",
        "    <p>This is the home page.</p>\n",
        "    <a href=\"/about\">About</a> |\n",
        "    <a href=\"/debug\">Debug</a>\n",
        "\n",
        "    <h2>Ask about historical (average) or current weather data in a city.</h2>\n",
        "    <div id=\"chatbox\"></div>\n",
        "    <input type=\"text\" id=\"message\" placeholder=\"Ask something...\" />\n",
        "    <button onclick=\"sendMessage()\">Send</button>\n",
        "\n",
        "    <script>\n",
        "        async function sendMessage() {\n",
        "            const inputBox = document.getElementById(\"message\");\n",
        "            const chatBox = document.getElementById(\"chatbox\");\n",
        "            const userMessage = inputBox.value;\n",
        "\n",
        "            if (!userMessage.trim()) return;\n",
        "\n",
        "            chatBox.innerHTML += \"<p><b>You:</b> \" + userMessage + \"</p>\";\n",
        "            inputBox.value = \"\";\n",
        "\n",
        "            const res = await fetch(\"/chat\", {\n",
        "                method: \"POST\",\n",
        "                headers: {\"Content-Type\": \"application/json\"},\n",
        "                body: JSON.stringify({message: userMessage})\n",
        "            });\n",
        "\n",
        "            const data = await res.json();\n",
        "            chatBox.innerHTML += \"<p><b>Bot:</b> \" + data.response + \"</p>\";\n",
        "        }\n",
        "    </script>\n",
        "</body>\n",
        "</html>"
      ],
      "metadata": {
        "id": "VTXOMZ2Ehs5H"
      },
      "execution_count": null,
      "outputs": []
    }
  ]
}